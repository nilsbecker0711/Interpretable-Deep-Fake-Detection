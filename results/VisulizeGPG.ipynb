{
 "cells": [
  {
   "cell_type": "code",
   "execution_count": null,
   "id": "f38644a9-462c-42e2-9cdb-29f38ff6f8a8",
   "metadata": {},
   "outputs": [],
   "source": [
    "import os\n",
    "new_dir = '/home/ma/ma_ma/ma_lineuman/Interpretable-Deep-Fake-Detection/results'\n",
    "if os.path.exists(new_dir):\n",
    "    os.chdir(new_dir)\n",
    "    print(\"Changed working directory to:\", os.getcwd())\n",
    "else:\n",
    "    print(\"Directory does not exist\")"
   ]
  },
  {
   "cell_type": "code",
   "execution_count": null,
   "id": "9358ab41-bca9-4ab9-813d-332b1cc4183b",
   "metadata": {},
   "outputs": [],
   "source": [
    "from matplotlib.colors import LinearSegmentedColormap\n",
    "import os\n",
    "import pickle\n",
    "import matplotlib.pyplot as plt\n",
    "import uuid"
   ]
  },
  {
   "cell_type": "code",
   "execution_count": null,
   "id": "6a437f4c-f471-48f7-b06a-59328c4cee1c",
   "metadata": {
    "scrolled": true
   },
   "outputs": [],
   "source": [
    "# Adjust the path: go up two levels from the current working directory to the project root.\n",
    "results_file = os.path.join( \"resnet34_test_run1_config\",\"3x3\",\n",
    "                            \"results_by_threshold.pkl\")\n",
    "print(\"Results file path:\", os.path.abspath(results_file))"
   ]
  },
  {
   "cell_type": "code",
   "execution_count": null,
   "id": "9c57517c-9a9f-466d-bace-6e6a979c3888",
   "metadata": {},
   "outputs": [],
   "source": [
    "def visualize(img_np, heatmap, true_fake_pos, guessed_fake_position, \n",
    "              intensity_weighted_accuracy, grid_split, model_prediction):\n",
    "    \"\"\"\n",
    "    Visualizes the original image and heatmap side by side in separate subplots.\n",
    "    \"\"\"\n",
    "    print(f\"[DEBUG] Visualizing heatmap with shape: {heatmap.shape}\")\n",
    "\n",
    "    fig, (ax1, ax2) = plt.subplots(1, 2, figsize=(10, 5))\n",
    "\n",
    "    # --- Left subplot: original image ---\n",
    "    ax1.imshow(img_np)\n",
    "    ax1.set_title(\"Original Image\")\n",
    "    ax1.axis(\"off\")\n",
    "\n",
    "    # --- Right subplot: heatmap ---\n",
    "    ax2.imshow(heatmap, cmap='hot')\n",
    "    ax2.set_title(\"Heatmap\")\n",
    "    ax2.axis(\"off\")\n",
    "\n",
    "    # Add text annotations on top of the figure rather than inside one subplot.\n",
    "    fig.suptitle(\n",
    "        f\"True Fake Pos: {true_fake_pos}, Guessed: {guessed_fake_position}\\n\"\n",
    "        f\"Intensity-Weighted Accuracy: {intensity_weighted_accuracy:.4f}, Modelprediction of grid: {model_prediction}\\n\"\n",
    "    )\n",
    "\n",
    "    plt.tight_layout()\n",
    "    plt.show()"
   ]
  },
  {
   "cell_type": "code",
   "execution_count": null,
   "id": "7e3288f1-0ad7-4b37-a32e-8abd21f908c2",
   "metadata": {},
   "outputs": [],
   "source": [
    "def visualize_and_save(img_np, heatmap, true_fake_pos, weighted_guessed_fake_position, intensity_weighted_accuracy, unweighted_guessed_fake_position, intensity_unweighted_accuracy, grid_split, model_prediction, save_folder=\"results\", file_prefix=\"visualization\"):\n",
    "    \"\"\"\n",
    "    Visualisiert das Originalbild und die Heatmap nebeneinander und speichert die Abbildung unter einem eindeutigen Dateinamen.\n",
    "    \"\"\"\n",
    "    print(f\"[DEBUG] Visualizing heatmap with shape: {heatmap.shape}\")\n",
    "\n",
    "    fig, (ax1, ax2) = plt.subplots(1, 2, figsize=(10, 5))\n",
    "\n",
    "    # --- Linke Seite: Originalbild ---\n",
    "    ax1.imshow(img_np)\n",
    "    ax1.set_title(\"Original Image\")\n",
    "    ax1.axis(\"off\")\n",
    "\n",
    "    colors = [\"white\", \"red\"]\n",
    "    custom_cmap = LinearSegmentedColormap.from_list(\"white_to_red\", colors)\n",
    "    \n",
    "    # --- Rechte Seite: Heatmap ---\n",
    "    ax2.imshow(heatmap, cmap=custom_cmap)\n",
    "    ax2.set_title(\"Heatmap\")\n",
    "    ax2.axis(\"off\")\n",
    "\n",
    "    # Überschrift mit Anmerkungen\n",
    "    fig.suptitle(\n",
    "        f\"True Fake Pos: {true_fake_pos}, Guessed: {guessed_fake_position}\\n\"\n",
    "        f\"Intensity-Weighted Accuracy: {intensity_weighted_accuracy:.4f}, Modelprediction: {model_prediction}\"\n",
    "    )\n",
    "\n",
    "    plt.tight_layout()\n",
    "\n",
    "    # Sicherstellen, dass der Speicherordner existiert.\n",
    "    if not os.path.exists(save_folder):\n",
    "        os.makedirs(save_folder)\n",
    "\n",
    "    # Eindeutigen Dateinamen generieren: Prefix, echte/erratene Position und ein zufälliger UUID-Teil.\n",
    "    unique_id = uuid.uuid4().hex[:8]\n",
    "    filename = f\"{file_prefix}_{true_fake_pos}_{guessed_fake_position}_{unique_id}.png\"\n",
    "    filepath = os.path.join(save_folder, filename)\n",
    "\n",
    "    # Abbildung speichern.\n",
    "    plt.savefig(filepath)\n",
    "    print(f\"Saved visualization to {filepath}\")\n",
    "\n",
    "    plt.show()"
   ]
  },
  {
   "cell_type": "code",
   "execution_count": null,
   "id": "97bd916f-3248-4eee-b7fd-7ec07868cdeb",
   "metadata": {},
   "outputs": [],
   "source": [
    "with open(results_file, \"rb\") as f:\n",
    "    results = pickle.load(f)\n",
    "\n",
    "for threshold, result_list in results.items():\n",
    "    for result in result_list:\n",
    "        path = result.get(\"path\")\n",
    "        img_np = result.get(\"original_image\")\n",
    "        heatmap = result.get(\"heatmap\")\n",
    "        true_fake_pos = result.get(\"true_fake_position\")\n",
    "        guessed_fake_pos = result.get(\"weighted_guessed_fake_position\")\n",
    "        model_prediction = result.get(\"model_prediction\")\n",
    "        weighted_localization_score = result.get(\"weighted_localization_score\", 0.0)\n",
    "\n",
    "        grid_split = 3  # oder 4 oder was auch immer du verwendet hast\n",
    "\n",
    "        print(f\"Threshold {threshold} | Weighted localization score: {weighted_localization_score:.2f} | weighted Guessed: {guessed_fake_pos} | True: {true_fake_pos}\")\n",
    "        visualize_and_save(img_np, heatmap, true_fake_pos, guessed_fake_pos, weighted_localization_score, grid_split, model_prediction)"
   ]
  },
  {
   "cell_type": "code",
   "execution_count": null,
   "id": "9b296958-2abb-4aa2-9d6a-9f478b13cd81",
   "metadata": {
    "scrolled": true
   },
   "outputs": [],
   "source": [
    "import os\n",
    "import pickle\n",
    "import matplotlib.pyplot as plt\n",
    "\n",
    "# Adjust the path: go up two levels from the current working directory to the project root.\n",
    "results_file = os.path.join( \"comparemode\",\"resnet34_bcos_v2_minimal\",\"results_by_threshold.pkl\")\n",
    "print(\"Results file path:\", os.path.abspath(results_file))\n"
   ]
  },
  {
   "cell_type": "code",
   "execution_count": null,
   "id": "2a054034-9c34-4c6c-a962-d72027b2a139",
   "metadata": {},
   "outputs": [],
   "source": [
    "with open(results_file, \"rb\") as f:\n",
    "    results = pickle.load(f)\n",
    "\n",
    "for threshold, result_list in results.items():\n",
    "    for result in result_list:\n",
    "        path = result.get(\"path\")\n",
    "        img_np = result.get(\"original_image\")\n",
    "        heatmap = result.get(\"heatmap\")\n",
    "        true_fake_pos = result.get(\"true_fake_position\")\n",
    "        guessed_fake_pos = result.get(\"guessed_fake_position\")\n",
    "        model_prediction = result.get(\"model_prediction\")\n",
    "        accuracy = result.get(\"accuracy\", 0.0)\n",
    "\n",
    "        grid_split = 3  # oder 4 oder was auch immer du verwendet hast\n",
    "\n",
    "        print(f\"Threshold {threshold} | Accuracy: {accuracy:.2f} | Guessed: {guessed_fake_pos} | True: {true_fake_pos}\")\n",
    "        visualize_and_save(img_np, heatmap, true_fake_pos, guessed_fake_pos, accuracy, grid_split, model_prediction)"
   ]
  },
  {
   "cell_type": "code",
   "execution_count": null,
   "id": "7efbc093-8eea-4028-b9f3-f59654badbba",
   "metadata": {
    "scrolled": true
   },
   "outputs": [],
   "source": [
    "import os\n",
    "import pickle\n",
    "import matplotlib.pyplot as plt\n",
    "\n",
    "# Adjust the path: go up two levels from the current working directory to the project root.\n",
    "results_file = os.path.join( \"comparemode\",\"resnet34\",\"results_by_threshold.pkl\")\n",
    "print(\"Results file path:\", os.path.abspath(results_file))\n"
   ]
  },
  {
   "cell_type": "code",
   "execution_count": null,
   "id": "acf485cc-4bf3-42bb-afad-23cccb8641d8",
   "metadata": {},
   "outputs": [],
   "source": [
    "with open(results_file, \"rb\") as f:\n",
    "    results = pickle.load(f)\n",
    "\n",
    "for threshold, result_list in results.items():\n",
    "    for result in result_list:\n",
    "        path = result.get(\"path\")\n",
    "        img_np = result.get(\"original_image\")\n",
    "        heatmap = result.get(\"heatmap\")\n",
    "        true_fake_pos = result.get(\"true_fake_position\")\n",
    "        guessed_fake_pos = result.get(\"guessed_fake_position\")\n",
    "        model_prediction = result.get(\"model_prediction\")\n",
    "        accuracy = result.get(\"accuracy\", 0.0)\n",
    "\n",
    "        grid_split = 3  # oder 4 oder was auch immer du verwendet hast\n",
    "\n",
    "        print(f\"Threshold {threshold} | Accuracy: {accuracy:.2f} | Guessed: {guessed_fake_pos} | True: {true_fake_pos}\")\n",
    "        visualize_and_save(img_np, heatmap, true_fake_pos, guessed_fake_pos, accuracy, grid_split, model_prediction)"
   ]
  },
  {
   "cell_type": "code",
   "execution_count": null,
   "id": "6e229900-2dac-416b-8dec-2a6bfa0cd883",
   "metadata": {},
   "outputs": [],
   "source": []
  }
 ],
 "metadata": {
  "kernelspec": {
   "display_name": "Python 3 (ipykernel)",
   "language": "python",
   "name": "python3"
  },
  "language_info": {
   "codemirror_mode": {
    "name": "ipython",
    "version": 3
   },
   "file_extension": ".py",
   "mimetype": "text/x-python",
   "name": "python",
   "nbconvert_exporter": "python",
   "pygments_lexer": "ipython3",
   "version": "3.11.7"
  }
 },
 "nbformat": 4,
 "nbformat_minor": 5
}
