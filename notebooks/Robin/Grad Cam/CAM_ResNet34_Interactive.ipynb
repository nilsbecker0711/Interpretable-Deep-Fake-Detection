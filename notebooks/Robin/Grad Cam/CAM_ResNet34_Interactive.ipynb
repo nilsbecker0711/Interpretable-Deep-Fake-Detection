{
 "cells": [
  {
   "cell_type": "code",
   "execution_count": 1,
   "id": "b56fe754",
   "metadata": {},
   "outputs": [],
   "source": [
    "import sys\n",
    "sys.path.append(\"/Users/msrobin/GitHub Repositorys/Interpretable-Deep-Fake-Detection-2\")\n",
    "sys.argv = [\"train.py\"]"
   ]
  },
  {
   "cell_type": "code",
   "execution_count": 2,
   "id": "4c908dff",
   "metadata": {},
   "outputs": [
    {
     "name": "stderr",
     "output_type": "stream",
     "text": [
      "/opt/anaconda3/envs/lime/lib/python3.9/site-packages/torchvision/io/image.py:14: UserWarning: Failed to load image Python extension: 'dlopen(/opt/anaconda3/envs/lime/lib/python3.9/site-packages/torchvision/image.so, 0x0006): Library not loaded: @rpath/libjpeg.9.dylib\n",
      "  Referenced from: <FB2FD416-6C4D-3621-B677-61F07C02A3C5> /opt/anaconda3/envs/lime/lib/python3.9/site-packages/torchvision/image.so\n",
      "  Reason: tried: '/opt/anaconda3/envs/lime/lib/python3.9/site-packages/torchvision/../../../libjpeg.9.dylib' (no such file), '/opt/anaconda3/envs/lime/lib/python3.9/site-packages/torchvision/../../../libjpeg.9.dylib' (no such file), '/opt/anaconda3/envs/lime/lib/python3.9/lib-dynload/../../libjpeg.9.dylib' (no such file), '/opt/anaconda3/envs/lime/bin/../lib/libjpeg.9.dylib' (no such file)'If you don't plan on using image functionality from `torchvision.io`, you can ignore this warning. Otherwise, there might be something wrong with your environment. Did you have `libjpeg` or `libpng` installed before building `torchvision` from source?\n",
      "  warn(\n"
     ]
    }
   ],
   "source": [
    "import os\n",
    "import torch\n",
    "import numpy as np\n",
    "import matplotlib.pyplot as plt\n",
    "from torchvision import transforms\n",
    "from torch.utils.data import Dataset, DataLoader\n",
    "from PIL import Image\n",
    "\n",
    "from pytorch_grad_cam import GradCAM, XGradCAM, LayerCAM\n",
    "from pytorch_grad_cam.utils.image import show_cam_on_image\n",
    "from pytorch_grad_cam.utils.model_targets import ClassifierOutputTarget\n",
    "\n",
    "from training.detectors.resnet34_detector import ResnetDetector\n",
    "\n",
    "device = torch.device(\"cuda\" if torch.cuda.is_available() else \"cpu\")\n"
   ]
  },
  {
   "cell_type": "code",
   "execution_count": 4,
   "id": "55bc9743",
   "metadata": {},
   "outputs": [],
   "source": [
    "class CustomImageDataset(Dataset):\n",
    "    def __init__(self, folder_paths, transform=None):\n",
    "        self.image_files = []\n",
    "        for folder, label in folder_paths.items():\n",
    "            for f in os.listdir(folder):\n",
    "                if f.endswith((\".png\", \".jpg\")):\n",
    "                    self.image_files.append((os.path.join(folder, f), label))\n",
    "        self.transform = transform\n",
    "\n",
    "    def __len__(self):\n",
    "        return len(self.image_files)\n",
    "\n",
    "    def __getitem__(self, idx):\n",
    "        img_path, label = self.image_files[idx]\n",
    "        image = Image.open(img_path).convert(\"RGB\")\n",
    "        if self.transform:\n",
    "            image = self.transform(image)\n",
    "        return image, label, img_path\n",
    "\n",
    "transform = transforms.Compose([\n",
    "    transforms.Resize((224, 224)),\n",
    "    transforms.ToTensor()\n",
    "])\n",
    "\n",
    "# You can adjust the dataset path here:\n",
    "file_path_deepfakebench = {\n",
    "    \"/Users/msrobin/GitHub Repositorys/Interpretable-Deep-Fake-Detection-2/datasets/2x2_images\": 1\n",
    "}\n",
    "dataset = CustomImageDataset(file_path_deepfakebench, transform=transform)\n",
    "dataloader = DataLoader(dataset, batch_size=8, shuffle=True)\n"
   ]
  },
  {
   "cell_type": "code",
   "execution_count": 6,
   "id": "615911c7",
   "metadata": {},
   "outputs": [
    {
     "ename": "KeyError",
     "evalue": "'mode'",
     "output_type": "error",
     "traceback": [
      "\u001b[0;31m---------------------------------------------------------------------------\u001b[0m",
      "\u001b[0;31mKeyError\u001b[0m                                  Traceback (most recent call last)",
      "Cell \u001b[0;32mIn[6], line 8\u001b[0m\n\u001b[1;32m      1\u001b[0m \u001b[38;5;66;03m# Load pretrained ResNet34-based detector\u001b[39;00m\n\u001b[1;32m      2\u001b[0m config \u001b[38;5;241m=\u001b[39m {\n\u001b[1;32m      3\u001b[0m     \u001b[38;5;124m\"\u001b[39m\u001b[38;5;124mpretrained\u001b[39m\u001b[38;5;124m\"\u001b[39m: \u001b[38;5;124m\"\u001b[39m\u001b[38;5;124m./weights/ckpt_best.pth\u001b[39m\u001b[38;5;124m\"\u001b[39m,\n\u001b[1;32m      4\u001b[0m     \u001b[38;5;124m\"\u001b[39m\u001b[38;5;124mmodel_name\u001b[39m\u001b[38;5;124m\"\u001b[39m: \u001b[38;5;124m\"\u001b[39m\u001b[38;5;124mresnet34\u001b[39m\u001b[38;5;124m\"\u001b[39m,\n\u001b[1;32m      5\u001b[0m     \u001b[38;5;124m\"\u001b[39m\u001b[38;5;124mbackbone_name\u001b[39m\u001b[38;5;124m\"\u001b[39m: \u001b[38;5;124m\"\u001b[39m\u001b[38;5;124mresnet34\u001b[39m\u001b[38;5;124m\"\u001b[39m,\n\u001b[1;32m      6\u001b[0m     \u001b[38;5;124m\"\u001b[39m\u001b[38;5;124mbackbone_config\u001b[39m\u001b[38;5;124m\"\u001b[39m: {\u001b[38;5;124m\"\u001b[39m\u001b[38;5;124mnum_classes\u001b[39m\u001b[38;5;124m\"\u001b[39m: \u001b[38;5;241m2\u001b[39m, \u001b[38;5;124m\"\u001b[39m\u001b[38;5;124minc\u001b[39m\u001b[38;5;124m\"\u001b[39m: \u001b[38;5;241m3\u001b[39m}\n\u001b[1;32m      7\u001b[0m }\n\u001b[0;32m----> 8\u001b[0m model \u001b[38;5;241m=\u001b[39m \u001b[43mResnetDetector\u001b[49m\u001b[43m(\u001b[49m\u001b[43mconfig\u001b[49m\u001b[43m)\u001b[49m\n\u001b[1;32m      9\u001b[0m model\u001b[38;5;241m.\u001b[39meval()\u001b[38;5;241m.\u001b[39mto(device)\n\u001b[1;32m     11\u001b[0m \u001b[38;5;66;03m# Wrap model for GradCAM compatibility\u001b[39;00m\n",
      "File \u001b[0;32m~/GitHub Repositorys/Interpretable-Deep-Fake-Detection-2/training/detectors/resnet34_detector.py:60\u001b[0m, in \u001b[0;36mResnetDetector.__init__\u001b[0;34m(self, config)\u001b[0m\n\u001b[1;32m     58\u001b[0m \u001b[38;5;28msuper\u001b[39m()\u001b[38;5;241m.\u001b[39m\u001b[38;5;21m__init__\u001b[39m()\n\u001b[1;32m     59\u001b[0m \u001b[38;5;28mself\u001b[39m\u001b[38;5;241m.\u001b[39mconfig \u001b[38;5;241m=\u001b[39m config\n\u001b[0;32m---> 60\u001b[0m \u001b[38;5;28mself\u001b[39m\u001b[38;5;241m.\u001b[39mbackbone \u001b[38;5;241m=\u001b[39m \u001b[38;5;28;43mself\u001b[39;49m\u001b[38;5;241;43m.\u001b[39;49m\u001b[43mbuild_backbone\u001b[49m\u001b[43m(\u001b[49m\u001b[43mconfig\u001b[49m\u001b[43m)\u001b[49m\n\u001b[1;32m     61\u001b[0m \u001b[38;5;28mself\u001b[39m\u001b[38;5;241m.\u001b[39mloss_func \u001b[38;5;241m=\u001b[39m \u001b[38;5;28mself\u001b[39m\u001b[38;5;241m.\u001b[39mbuild_loss(config)\n",
      "File \u001b[0;32m~/GitHub Repositorys/Interpretable-Deep-Fake-Detection-2/training/detectors/resnet34_detector.py:67\u001b[0m, in \u001b[0;36mResnetDetector.build_backbone\u001b[0;34m(self, config)\u001b[0m\n\u001b[1;32m     65\u001b[0m backbone_class \u001b[38;5;241m=\u001b[39m BACKBONE[config[\u001b[38;5;124m'\u001b[39m\u001b[38;5;124mbackbone_name\u001b[39m\u001b[38;5;124m'\u001b[39m]]\n\u001b[1;32m     66\u001b[0m model_config \u001b[38;5;241m=\u001b[39m config[\u001b[38;5;124m'\u001b[39m\u001b[38;5;124mbackbone_config\u001b[39m\u001b[38;5;124m'\u001b[39m]\n\u001b[0;32m---> 67\u001b[0m backbone \u001b[38;5;241m=\u001b[39m \u001b[43mbackbone_class\u001b[49m\u001b[43m(\u001b[49m\u001b[43mmodel_config\u001b[49m\u001b[43m)\u001b[49m\n\u001b[1;32m     68\u001b[0m \u001b[38;5;66;03m#FIXME: current load pretrained weights only from the backbone, not here\u001b[39;00m\n\u001b[1;32m     69\u001b[0m \u001b[38;5;66;03m# # if donot load the pretrained weights, fail to get good results\u001b[39;00m\n\u001b[1;32m     70\u001b[0m \u001b[38;5;66;03m# state_dict = torch.load(config['pretrained'])\u001b[39;00m\n\u001b[1;32m     71\u001b[0m \u001b[38;5;66;03m# state_dict = {'resnet.'+k:v for k, v in state_dict.items() if 'fc' not in k}\u001b[39;00m\n\u001b[1;32m     72\u001b[0m \u001b[38;5;66;03m# backbone.load_state_dict(state_dict, False)\u001b[39;00m\n\u001b[1;32m     73\u001b[0m \u001b[38;5;66;03m# logger.info('Load pretrained model successfully!')\u001b[39;00m\n\u001b[1;32m     74\u001b[0m \u001b[38;5;28;01mreturn\u001b[39;00m backbone\n",
      "File \u001b[0;32m~/GitHub Repositorys/Interpretable-Deep-Fake-Detection-2/training/networks/base/resnet34.py:30\u001b[0m, in \u001b[0;36mResNet34.__init__\u001b[0;34m(self, resnet_config)\u001b[0m\n\u001b[1;32m     28\u001b[0m \u001b[38;5;28mself\u001b[39m\u001b[38;5;241m.\u001b[39mnum_classes \u001b[38;5;241m=\u001b[39m resnet_config[\u001b[38;5;124m\"\u001b[39m\u001b[38;5;124mnum_classes\u001b[39m\u001b[38;5;124m\"\u001b[39m]\n\u001b[1;32m     29\u001b[0m inc \u001b[38;5;241m=\u001b[39m resnet_config[\u001b[38;5;124m\"\u001b[39m\u001b[38;5;124minc\u001b[39m\u001b[38;5;124m\"\u001b[39m]\n\u001b[0;32m---> 30\u001b[0m \u001b[38;5;28mself\u001b[39m\u001b[38;5;241m.\u001b[39mmode \u001b[38;5;241m=\u001b[39m \u001b[43mresnet_config\u001b[49m\u001b[43m[\u001b[49m\u001b[38;5;124;43m\"\u001b[39;49m\u001b[38;5;124;43mmode\u001b[39;49m\u001b[38;5;124;43m\"\u001b[39;49m\u001b[43m]\u001b[49m\n\u001b[1;32m     32\u001b[0m \u001b[38;5;66;03m# Define layers of the backbone\u001b[39;00m\n\u001b[1;32m     33\u001b[0m resnet \u001b[38;5;241m=\u001b[39m torchvision\u001b[38;5;241m.\u001b[39mmodels\u001b[38;5;241m.\u001b[39mresnet34(pretrained\u001b[38;5;241m=\u001b[39m\u001b[38;5;28;01mTrue\u001b[39;00m)  \u001b[38;5;66;03m# FIXME: download the pretrained weights from online\u001b[39;00m\n",
      "\u001b[0;31mKeyError\u001b[0m: 'mode'"
     ]
    }
   ],
   "source": [
    "# Load pretrained ResNet34-based detector\n",
    "config = {\n",
    "    \"pretrained\": \"./weights/ckpt_best.pth\",\n",
    "    \"model_name\": \"resnet34\",\n",
    "    \"backbone_name\": \"resnet34\",\n",
    "    \"backbone_config\": {\"num_classes\": 2, \"inc\": 3}\n",
    "}\n",
    "model = ResnetDetector(config)\n",
    "model.eval().to(device)\n",
    "\n",
    "# Wrap model for GradCAM compatibility\n",
    "class WrappedModel(torch.nn.Module):\n",
    "    def __init__(self, model):\n",
    "        super().__init__()\n",
    "        self.model = model\n",
    "\n",
    "    def forward(self, x):\n",
    "        data_dict = {'image': x}\n",
    "        return self.model(data_dict)[\"cls\"]\n",
    "\n",
    "wrapped_model = WrappedModel(model)\n"
   ]
  },
  {
   "cell_type": "code",
   "execution_count": null,
   "id": "b29c0472",
   "metadata": {},
   "outputs": [],
   "source": [
    "# Find last conv layer (excluding adjust_channel)\n",
    "target_layers = []\n",
    "for name, module in model.backbone.named_modules():\n",
    "    if isinstance(module, torch.nn.Conv2d) and \"adjust\" not in name:\n",
    "        target_layers.append((name, module))\n",
    "\n",
    "# Choose the last eligible one\n",
    "last_layer_name, last_layer = target_layers[-1]\n",
    "print(f\"Using target layer: {last_layer_name}\")\n"
   ]
  },
  {
   "cell_type": "code",
   "execution_count": null,
   "id": "1dedf35c",
   "metadata": {},
   "outputs": [],
   "source": [
    "from ipywidgets import widgets, interact\n",
    "\n",
    "cam_methods = {\n",
    "    \"GradCAM\": GradCAM,\n",
    "    \"XGradCAM\": XGradCAM,\n",
    "    \"LayerCAM\": LayerCAM\n",
    "}\n",
    "\n",
    "def run_cam(cam_type=\"GradCAM\"):\n",
    "    cam_class = cam_methods[cam_type]\n",
    "    cam = cam_class(model=wrapped_model, target_layers=[last_layer])\n",
    "\n",
    "    for img_batch, label_batch, path_batch in dataloader:\n",
    "        for i in range(min(3, len(img_batch))):\n",
    "            img = img_batch[i].unsqueeze(0).to(device)\n",
    "            label = label_batch[i]\n",
    "            targets = [ClassifierOutputTarget(label.item())]\n",
    "\n",
    "            grayscale_cam = cam(input_tensor=img, targets=targets)[0]\n",
    "\n",
    "            img_np = img.squeeze().cpu().numpy().transpose(1, 2, 0)\n",
    "            img_np = (img_np - img_np.min()) / (img_np.max() - img_np.min())\n",
    "            heatmap = show_cam_on_image(img_np, grayscale_cam, use_rgb=True)\n",
    "\n",
    "            plt.figure(figsize=(10, 5))\n",
    "            plt.imshow(heatmap)\n",
    "            plt.axis(\"off\")\n",
    "            plt.title(f\"{cam_type} | Label: {label.item()}\")\n",
    "            plt.show()\n",
    "        break\n",
    "\n",
    "interact(run_cam, cam_type=list(cam_methods.keys()))\n"
   ]
  }
 ],
 "metadata": {
  "kernelspec": {
   "display_name": "lime",
   "language": "python",
   "name": "python3"
  },
  "language_info": {
   "codemirror_mode": {
    "name": "ipython",
    "version": 3
   },
   "file_extension": ".py",
   "mimetype": "text/x-python",
   "name": "python",
   "nbconvert_exporter": "python",
   "pygments_lexer": "ipython3",
   "version": "3.9.21"
  }
 },
 "nbformat": 4,
 "nbformat_minor": 5
}
