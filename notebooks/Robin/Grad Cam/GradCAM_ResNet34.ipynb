{
 "cells": [
  {
   "cell_type": "markdown",
   "id": "49559ac8",
   "metadata": {},
   "source": [
    "# Grad-CAM with ResNet34"
   ]
  },
  {
   "cell_type": "code",
   "execution_count": 4,
   "id": "cdee2846",
   "metadata": {},
   "outputs": [],
   "source": [
    "import sys\n",
    "sys.path.append(\"/Users/msrobin/GitHub Repositorys/Interpretable-Deep-Fake-Detection-2\")\n",
    "sys.argv = [\"train.py\"]"
   ]
  },
  {
   "cell_type": "code",
   "execution_count": 6,
   "id": "0b22247b",
   "metadata": {},
   "outputs": [
    {
     "ename": "ModuleNotFoundError",
     "evalue": "No module named 'training.detectors.resnet34'",
     "output_type": "error",
     "traceback": [
      "\u001b[0;31m---------------------------------------------------------------------------\u001b[0m",
      "\u001b[0;31mModuleNotFoundError\u001b[0m                       Traceback (most recent call last)",
      "Cell \u001b[0;32mIn[6], line 13\u001b[0m\n\u001b[1;32m     11\u001b[0m \u001b[38;5;28;01mfrom\u001b[39;00m\u001b[38;5;250m \u001b[39m\u001b[38;5;21;01mtorchvision\u001b[39;00m\u001b[38;5;250m \u001b[39m\u001b[38;5;28;01mimport\u001b[39;00m transforms\n\u001b[1;32m     12\u001b[0m \u001b[38;5;28;01mimport\u001b[39;00m\u001b[38;5;250m \u001b[39m\u001b[38;5;21;01mos\u001b[39;00m\n\u001b[0;32m---> 13\u001b[0m \u001b[38;5;28;01mfrom\u001b[39;00m\u001b[38;5;250m \u001b[39m\u001b[38;5;21;01mtraining\u001b[39;00m\u001b[38;5;21;01m.\u001b[39;00m\u001b[38;5;21;01mdetectors\u001b[39;00m\u001b[38;5;21;01m.\u001b[39;00m\u001b[38;5;21;01mresnet34\u001b[39;00m\u001b[38;5;250m \u001b[39m\u001b[38;5;28;01mimport\u001b[39;00m ResNet34\n",
      "\u001b[0;31mModuleNotFoundError\u001b[0m: No module named 'training.detectors.resnet34'"
     ]
    }
   ],
   "source": [
    "import torch\n",
    "import torchvision\n",
    "import torch.nn as nn\n",
    "from pytorch_grad_cam import GradCAM\n",
    "from pytorch_grad_cam.utils.image import show_cam_on_image, preprocess_image\n",
    "from pytorch_grad_cam.utils.model_targets import ClassifierOutputTarget\n",
    "import cv2\n",
    "import numpy as np\n",
    "import matplotlib.pyplot as plt\n",
    "from PIL import Image\n",
    "from torchvision import transforms\n",
    "import os\n",
    "from training.detectors.resnet34 import ResNet34\n",
    "\n"
   ]
  },
  {
   "cell_type": "code",
   "execution_count": null,
   "id": "aa8e5175",
   "metadata": {},
   "outputs": [],
   "source": [
    "# Load model config manually\n",
    "resnet_config = {\n",
    "    \"num_classes\": 2,\n",
    "    \"inc\": 3,\n",
    "    \"mode\": \"default\"\n",
    "}\n",
    "model = ResNet34(resnet_config)\n"
   ]
  },
  {
   "cell_type": "code",
   "execution_count": null,
   "id": "ecb3ce30",
   "metadata": {},
   "outputs": [],
   "source": [
    "# Load checkpoint\n",
    "weights_path = \"/Users/msrobin/Downloads/bcos_resnet_minimal_b2_ckpt_best.pth\"\n",
    "state_dict = torch.load(weights_path, map_location=\"cpu\")\n",
    "model.load_state_dict(state_dict, strict=False)\n",
    "model.eval().cuda() if torch.cuda.is_available() else model.eval()\n"
   ]
  },
  {
   "cell_type": "code",
   "execution_count": null,
   "id": "ef169b00",
   "metadata": {},
   "outputs": [],
   "source": [
    "# Define preprocessing\n",
    "transform = transforms.Compose([\n",
    "    transforms.Resize((224, 224)),\n",
    "    transforms.ToTensor(),\n",
    "])\n",
    "\n",
    "def load_image(image_path):\n",
    "    image = Image.open(image_path).convert(\"RGB\")\n",
    "    tensor = transform(image).unsqueeze(0)\n",
    "    return image, tensor\n"
   ]
  },
  {
   "cell_type": "code",
   "execution_count": null,
   "id": "3ffb6bc7",
   "metadata": {},
   "outputs": [],
   "source": [
    "# Choose image path\n",
    "image_path = \"/Users/msrobin/GitHub Repositorys/Interpretable-Deep-Fake-Detection-2/datasets/2x2_images/sample_image.jpg\"\n",
    "pil_image, input_tensor = load_image(image_path)\n",
    "input_tensor = input_tensor.cuda() if torch.cuda.is_available() else input_tensor\n"
   ]
  },
  {
   "cell_type": "code",
   "execution_count": null,
   "id": "6d7b94b0",
   "metadata": {},
   "outputs": [],
   "source": [
    "# Grad-CAM setup\n",
    "target_layers = [model.resnet[-1][-1].conv2]  # Last conv layer in layer4\n",
    "wrapped_model = model\n",
    "\n",
    "cam = GradCAM(model=wrapped_model, target_layers=target_layers, use_cuda=torch.cuda.is_available())\n",
    "targets = [ClassifierOutputTarget(1)]  # Change target class index if needed\n",
    "grayscale_cam = cam(input_tensor=input_tensor, targets=targets)[0]\n",
    "\n",
    "# Convert and overlay CAM\n",
    "rgb_img = np.array(pil_image.resize((224, 224))) / 255.0\n",
    "visualization = show_cam_on_image(rgb_img, grayscale_cam, use_rgb=True)\n",
    "plt.imshow(visualization)\n",
    "plt.axis(\"off\")\n",
    "plt.title(\"Grad-CAM for ResNet34\")\n",
    "plt.show()\n"
   ]
  },
  {
   "cell_type": "markdown",
   "id": "49f18714",
   "metadata": {},
   "source": [
    "Other way of visualization "
   ]
  },
  {
   "cell_type": "code",
   "execution_count": null,
   "id": "7d5ec71e",
   "metadata": {},
   "outputs": [],
   "source": [
    "import numpy as np\n",
    "import matplotlib.pyplot as plt\n",
    "from pytorch_grad_cam.utils.image import show_cam_on_image\n",
    "from pytorch_grad_cam.utils.model_targets import ClassifierOutputTarget\n",
    "import torch.nn.functional as F\n",
    "\n",
    "correct = 0\n",
    "total = 0\n",
    "\n",
    "for image, label, path in dataloader:\n",
    "    image = image.to(device)\n",
    "    label = label.to(device)\n",
    "\n",
    "    # Forward pass\n",
    "    output = wrapped_model(image)\n",
    "    pred = torch.argmax(output, dim=1)\n",
    "\n",
    "    # Accuracy\n",
    "    correct += (pred == label).sum().item()\n",
    "    total += label.size(0)\n",
    "\n",
    "    # Grad-CAM\n",
    "    grayscale_cam = cam(input_tensor=image, targets=[ClassifierOutputTarget(pred.item())])[0]\n",
    "\n",
    "    # Prepare input for visualization\n",
    "    input_image = image[0].detach().cpu().permute(1, 2, 0).numpy()\n",
    "    input_image = (input_image - input_image.min()) / (input_image.max() - input_image.min() + 1e-8)\n",
    "\n",
    "    # Overlay CAM\n",
    "    cam_overlay = show_cam_on_image(input_image, grayscale_cam, use_rgb=True)\n",
    "\n",
    "    # Show\n",
    "    plt.figure(figsize=(6, 6))\n",
    "    plt.imshow(cam_overlay)\n",
    "    plt.title(f\"Prediction: {pred.item()} | Label: {label.item()}\")\n",
    "    plt.axis(\"off\")\n",
    "    plt.show()\n",
    "\n",
    "# Final accuracy\n",
    "print(f\"✅ Accuracy: {correct}/{total} = {correct / total:.2%}\")\n"
   ]
  }
 ],
 "metadata": {
  "kernelspec": {
   "display_name": "lime",
   "language": "python",
   "name": "python3"
  },
  "language_info": {
   "codemirror_mode": {
    "name": "ipython",
    "version": 3
   },
   "file_extension": ".py",
   "mimetype": "text/x-python",
   "name": "python",
   "nbconvert_exporter": "python",
   "pygments_lexer": "ipython3",
   "version": "3.9.21"
  }
 },
 "nbformat": 4,
 "nbformat_minor": 5
}
