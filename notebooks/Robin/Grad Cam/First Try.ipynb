{
 "cells": [
  {
   "cell_type": "markdown",
   "metadata": {},
   "source": [
    "X-Grad-Cam: Instead of global average pooling, XGrad-CAM normalizes the gradients using a term that adjusts for feature importance per location.\n",
    "This normalization helps refine the heatmap, making it sharper and more localized.\n",
    "More accurate feature weighting than Grad-CAM.\n",
    "Slightly more computationally expensive than standard Grad-CAM."
   ]
  },
  {
   "cell_type": "code",
   "execution_count": null,
   "metadata": {
    "vscode": {
     "languageId": "plaintext"
    }
   },
   "outputs": [],
   "source": [
    "import numpy as np\n",
    "from pytorch_grad_cam.base_cam import BaseCAM\n",
    "\n",
    "\n",
    "class XGradCAM(BaseCAM):\n",
    "    def __init__(\n",
    "            self,\n",
    "            model,\n",
    "            target_layers,\n",
    "            reshape_transform=None):\n",
    "        super(\n",
    "            XGradCAM,\n",
    "            self).__init__(\n",
    "            model,\n",
    "            target_layers,\n",
    "            reshape_transform)\n",
    "\n",
    "    def get_cam_weights(self,\n",
    "                        input_tensor,\n",
    "                        target_layer,\n",
    "                        target_category,\n",
    "                        activations,\n",
    "                        grads):\n",
    "        sum_activations = np.sum(activations, axis=(2, 3))\n",
    "        eps = 1e-7\n",
    "        weights = grads * activations / \\\n",
    "            (sum_activations[:, :, None, None] + eps)\n",
    "        weights = weights.sum(axis=(2, 3))\n",
    "        return weights"
   ]
  },
  {
   "cell_type": "markdown",
   "metadata": {},
   "source": [
    "Chat GPT "
   ]
  },
  {
   "cell_type": "code",
   "execution_count": null,
   "metadata": {
    "vscode": {
     "languageId": "plaintext"
    }
   },
   "outputs": [],
   "source": [
    "import torch\n",
    "import torch.nn.functional as F\n",
    "import numpy as np\n",
    "import cv2\n",
    "import matplotlib.pyplot as plt\n",
    "from pytorch_grad_cam import XGradCAM\n",
    "from pytorch_grad_cam.utils.model_targets import ClassifierOutputTarget\n",
    "from pytorch_grad_cam.utils.image import show_cam_on_image\n",
    "\n",
    "# Load Xception Model (same as LIME notebook)\n",
    "from training.detectors import DETECTOR\n",
    "import yaml\n",
    "\n",
    "def load_config(path, additional_args={}):\n",
    "    with open(path, 'r') as f:\n",
    "        config = yaml.safe_load(f)\n",
    "    return config\n",
    "\n",
    "path = \"./training/config/detector/xception.yaml\"\n",
    "additional_args = {'test_batchSize': 12, 'pretrained': './weights/ckpt_best.pth'}\n",
    "config = load_config(path, additional_args=additional_args)\n",
    "model_class = DETECTOR[config['model_name']]\n",
    "model = model_class(config)\n",
    "model.eval()\n",
    "\n",
    "# Select the last convolutional layer\n",
    "TARGET_LAYER = model.backbone.features[-1]  # Adjust if needed\n",
    "\n",
    "# Define function to apply XGrad-CAM\n",
    "def apply_xgrad_cam(model, images, target_class=1):\n",
    "    cam = XGradCAM(model=model, target_layers=[TARGET_LAYER])\n",
    "    targets = [ClassifierOutputTarget(target_class)]\n",
    "    grayscale_cam = cam(input_tensor=images, targets=targets)  # Generate CAM\n",
    "    grayscale_cam = grayscale_cam[0, :]  # Extract CAM for first batch\n",
    "    return grayscale_cam\n",
    "\n",
    "# Function to overlay heatmap\n",
    "def overlay_heatmap(image, cam):\n",
    "    image = np.transpose(image.numpy(), (1, 2, 0))  # Convert from Tensor format\n",
    "    image = (image - image.min()) / (image.max() - image.min())  # Normalize\n",
    "    cam = cv2.resize(cam, (224, 224))  # Resize CAM to match image size\n",
    "    heatmap = cv2.applyColorMap(np.uint8(255 * cam), cv2.COLORMAP_JET)\n",
    "    overlay = (heatmap / 255) * 0.5 + image\n",
    "    overlay = (overlay - overlay.min()) / (overlay.max() - overlay.min())\n",
    "    return overlay"
   ]
  }
 ],
 "metadata": {
  "language_info": {
   "name": "python"
  }
 },
 "nbformat": 4,
 "nbformat_minor": 2
}
